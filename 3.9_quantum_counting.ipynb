{
 "cells": [
  {
   "cell_type": "markdown",
   "metadata": {},
   "source": [
    "# Quantum Counting\n",
    "Source: https://qiskit.org/textbook/ch-algorithms/quantum-counting.html"
   ]
  },
  {
   "cell_type": "code",
   "execution_count": 1,
   "metadata": {},
   "outputs": [],
   "source": [
    "import matplotlib.pyplot as plt\n",
    "import numpy as np\n",
    "import math\n",
    "\n",
    "import qiskit\n",
    "from qiskit import QuantumCircuit, transpile, assemble, Aer\n",
    "\n",
    "from qiskit.visualization import plot_histogram"
   ]
  },
  {
   "cell_type": "code",
   "execution_count": 4,
   "metadata": {},
   "outputs": [
    {
     "data": {
      "text/html": [
       "<pre style=\"word-wrap: normal;white-space: pre;background: #fff0;line-height: 1.1;font-family: &quot;Courier New&quot;,Courier,monospace\">                                             ┌───┐┌───┐          ┌───┐┌───┐\n",
       "q_0: ───────■──────────────■──────────────■──┤ H ├┤ X ├───────■──┤ X ├┤ H ├\n",
       "            │  ┌───┐       │              │  ├───┤├───┤┌───┐  │  ├───┤├───┤\n",
       "q_1: ───────■──┤ X ├───────┼──────────────■──┤ X ├┤ H ├┤ X ├──■──┤ X ├┤ H ├\n",
       "     ┌───┐┌─┴─┐├───┤┌───┐  │  ┌───┐┌───┐┌─┴─┐├───┤├───┤├───┤  │  ├───┤├───┤\n",
       "q_2: ┤ H ├┤ X ├┤ H ├┤ X ├──■──┤ X ├┤ H ├┤ X ├┤ H ├┤ H ├┤ X ├──■──┤ X ├┤ H ├\n",
       "     ├───┤└───┘└───┘└───┘┌─┴─┐├───┤├───┤└─┬─┘├───┤├───┤└───┘┌─┴─┐├───┤└───┘\n",
       "q_3: ┤ H ├───────────────┤ X ├┤ H ├┤ X ├──■──┤ X ├┤ Z ├─────┤ X ├┤ Z ├─────\n",
       "     └───┘               └───┘└───┘└───┘     └───┘└───┘     └───┘└───┘     </pre>"
      ],
      "text/plain": [
       "                                             ┌───┐┌───┐          ┌───┐┌───┐\n",
       "q_0: ───────■──────────────■──────────────■──┤ H ├┤ X ├───────■──┤ X ├┤ H ├\n",
       "            │  ┌───┐       │              │  ├───┤├───┤┌───┐  │  ├───┤├───┤\n",
       "q_1: ───────■──┤ X ├───────┼──────────────■──┤ X ├┤ H ├┤ X ├──■──┤ X ├┤ H ├\n",
       "     ┌───┐┌─┴─┐├───┤┌───┐  │  ┌───┐┌───┐┌─┴─┐├───┤├───┤├───┤  │  ├───┤├───┤\n",
       "q_2: ┤ H ├┤ X ├┤ H ├┤ X ├──■──┤ X ├┤ H ├┤ X ├┤ H ├┤ H ├┤ X ├──■──┤ X ├┤ H ├\n",
       "     ├───┤└───┘└───┘└───┘┌─┴─┐├───┤├───┤└─┬─┘├───┤├───┤└───┘┌─┴─┐├───┤└───┘\n",
       "q_3: ┤ H ├───────────────┤ X ├┤ H ├┤ X ├──■──┤ X ├┤ Z ├─────┤ X ├┤ Z ├─────\n",
       "     └───┘               └───┘└───┘└───┘     └───┘└───┘     └───┘└───┘     "
      ]
     },
     "execution_count": 4,
     "metadata": {},
     "output_type": "execute_result"
    }
   ],
   "source": [
    "# EXAMPLE OF A GROVER ITERATION\n",
    "\"\"\"Small circuit with 5/16 solutions\"\"\"\n",
    "# Do circuit\n",
    "qc = QuantumCircuit(4)\n",
    "# Oracle\n",
    "qc.h([2,3])\n",
    "qc.ccx(0,1,2)\n",
    "qc.h(2)\n",
    "qc.x(2)\n",
    "qc.ccx(0,2,3)\n",
    "qc.x(2)\n",
    "qc.h(3)\n",
    "qc.x([1,3])\n",
    "qc.h(2)\n",
    "qc.mct([0,1,3],2)\n",
    "qc.x([1,3])\n",
    "qc.h(2)\n",
    "# Diffuser\n",
    "qc.h(range(3))\n",
    "qc.x(range(3))\n",
    "qc.z(3)\n",
    "qc.mct([0,1,2],3)\n",
    "qc.x(range(3))\n",
    "qc.h(range(3))\n",
    "qc.z(3)\n",
    "\n",
    "qc.draw()"
   ]
  },
  {
   "cell_type": "code",
   "execution_count": 5,
   "metadata": {},
   "outputs": [],
   "source": [
    "#turn it into a function\n",
    "def example_grover_iteration():\n",
    "    \"\"\"Small circuit with 5/16 solutions\"\"\"\n",
    "    # Do circuit\n",
    "    qc = QuantumCircuit(4)\n",
    "    # Oracle\n",
    "    qc.h([2,3])\n",
    "    qc.ccx(0,1,2)\n",
    "    qc.h(2)\n",
    "    qc.x(2)\n",
    "    qc.ccx(0,2,3)\n",
    "    qc.x(2)\n",
    "    qc.h(3)\n",
    "    qc.x([1,3])\n",
    "    qc.h(2)\n",
    "    qc.mct([0,1,3],2)\n",
    "    qc.x([1,3])\n",
    "    qc.h(2)\n",
    "    # Diffuser\n",
    "    qc.h(range(3))\n",
    "    qc.x(range(3))\n",
    "    qc.z(3)\n",
    "    qc.mct([0,1,2],3)\n",
    "    qc.x(range(3))\n",
    "    qc.h(range(3))\n",
    "    qc.z(3)\n",
    "    return qc"
   ]
  },
  {
   "cell_type": "code",
   "execution_count": 9,
   "metadata": {},
   "outputs": [
    {
     "name": "stdout",
     "output_type": "stream",
     "text": [
      "                                             ┌───┐┌───┐          ┌───┐┌───┐\n",
      "q_0: ───────■──────────────■──────────────■──┤ H ├┤ X ├───────■──┤ X ├┤ H ├\n",
      "            │  ┌───┐       │              │  ├───┤├───┤┌───┐  │  ├───┤├───┤\n",
      "q_1: ───────■──┤ X ├───────┼──────────────■──┤ X ├┤ H ├┤ X ├──■──┤ X ├┤ H ├\n",
      "     ┌───┐┌─┴─┐├───┤┌───┐  │  ┌───┐┌───┐┌─┴─┐├───┤├───┤├───┤  │  ├───┤├───┤\n",
      "q_2: ┤ H ├┤ X ├┤ H ├┤ X ├──■──┤ X ├┤ H ├┤ X ├┤ H ├┤ H ├┤ X ├──■──┤ X ├┤ H ├\n",
      "     ├───┤└───┘└───┘└───┘┌─┴─┐├───┤├───┤└─┬─┘├───┤├───┤└───┘┌─┴─┐├───┤└───┘\n",
      "q_3: ┤ H ├───────────────┤ X ├┤ H ├┤ X ├──■──┤ X ├┤ Z ├─────┤ X ├┤ Z ├─────\n",
      "     └───┘               └───┘└───┘└───┘     └───┘└───┘     └───┘└───┘     \n"
     ]
    }
   ],
   "source": [
    "print(example_grover_iteration())"
   ]
  },
  {
   "cell_type": "code",
   "execution_count": 14,
   "metadata": {},
   "outputs": [
    {
     "data": {
      "text/plain": [
       "qiskit.circuit.controlledgate.ControlledGate"
      ]
     },
     "execution_count": 14,
     "metadata": {},
     "output_type": "execute_result"
    }
   ],
   "source": [
    "#create a controlled-Grover gate\n",
    "grit = example_grover_iteration()\n",
    "grit = grit.to_gate()\n",
    "grit.label = 'Grover'\n",
    "\n",
    "cgrit = grit.control()\n",
    "type(cgrit)"
   ]
  },
  {
   "cell_type": "code",
   "execution_count": 16,
   "metadata": {},
   "outputs": [],
   "source": [
    "#define a QFT function:\n",
    "\n",
    "def swap_registers(circuit,n):\n",
    "    for qubit in range(n//2):\n",
    "        circuit.swap(qubit, n-qubit-1)\n",
    "    return circuit\n",
    "\n",
    "def qft_rotations(circuit, n):\n",
    "    if n == 0:\n",
    "        return circuit\n",
    "    \n",
    "    n -= 1\n",
    "    circuit.h(n)\n",
    "    for qubit in range(n):\n",
    "        circuit.cp(np.pi/2 ** (n - qubit), qubit, n)\n",
    "        qft_rotations(circuit,n)\n",
    "\n",
    "def qft(n):\n",
    "    circuit = QuantumCircuit(4)\n",
    "    qft_rotations(circuit, n)\n",
    "    swap_registers(circuit, n)\n",
    "    return circuit"
   ]
  },
  {
   "cell_type": "code",
   "execution_count": 18,
   "metadata": {},
   "outputs": [],
   "source": [
    "qft_dagger = qft(4).to_gate().inverse()\n",
    "qft_dagger.label = 'QFT-d'"
   ]
  },
  {
   "cell_type": "code",
   "execution_count": null,
   "metadata": {},
   "outputs": [],
   "source": []
  },
  {
   "cell_type": "code",
   "execution_count": 19,
   "metadata": {},
   "outputs": [],
   "source": [
    "#### PUTTING IT ALL TOGETHER ####"
   ]
  },
  {
   "cell_type": "code",
   "execution_count": 22,
   "metadata": {},
   "outputs": [
    {
     "data": {
      "text/html": [
       "<pre style=\"word-wrap: normal;white-space: pre;background: #fff0;line-height: 1.1;font-family: &quot;Courier New&quot;,Courier,monospace\">     ┌───┐                                                                                                                                                                     ┌────────┐┌─┐         \n",
       "q_0: ┤ H ├─────■───────────────────────────────────────────────────────────────────────────────────────────────────────────────────────────────────────────────────────────────┤0       ├┤M├─────────\n",
       "     ├───┤     │                                                                                                                                                               │        │└╥┘┌─┐      \n",
       "q_1: ┤ H ├─────┼──────────■──────────■─────────────────────────────────────────────────────────────────────────────────────────────────────────────────────────────────────────┤1       ├─╫─┤M├──────\n",
       "     ├───┤     │          │          │                                                                                                                                         │  QFT-d │ ║ └╥┘┌─┐   \n",
       "q_2: ┤ H ├─────┼──────────┼──────────┼──────────■──────────■──────────■──────────■─────────────────────────────────────────────────────────────────────────────────────────────┤2       ├─╫──╫─┤M├───\n",
       "     ├───┤     │          │          │          │          │          │          │                                                                                             │        │ ║  ║ └╥┘┌─┐\n",
       "q_3: ┤ H ├─────┼──────────┼──────────┼──────────┼──────────┼──────────┼──────────┼──────────■──────────■──────────■──────────■──────────■──────────■──────────■──────────■─────┤3       ├─╫──╫──╫─┤M├\n",
       "     ├───┤┌────┴────┐┌────┴────┐┌────┴────┐┌────┴────┐┌────┴────┐┌────┴────┐┌────┴────┐┌────┴────┐┌────┴────┐┌────┴────┐┌────┴────┐┌────┴────┐┌────┴────┐┌────┴────┐┌────┴────┐└────────┘ ║  ║  ║ └╥┘\n",
       "q_4: ┤ H ├┤0        ├┤0        ├┤0        ├┤0        ├┤0        ├┤0        ├┤0        ├┤0        ├┤0        ├┤0        ├┤0        ├┤0        ├┤0        ├┤0        ├┤0        ├───────────╫──╫──╫──╫─\n",
       "     ├───┤│         ││         ││         ││         ││         ││         ││         ││         ││         ││         ││         ││         ││         ││         ││         │           ║  ║  ║  ║ \n",
       "q_5: ┤ H ├┤1        ├┤1        ├┤1        ├┤1        ├┤1        ├┤1        ├┤1        ├┤1        ├┤1        ├┤1        ├┤1        ├┤1        ├┤1        ├┤1        ├┤1        ├───────────╫──╫──╫──╫─\n",
       "     ├───┤│  Grover ││  Grover ││  Grover ││  Grover ││  Grover ││  Grover ││  Grover ││  Grover ││  Grover ││  Grover ││  Grover ││  Grover ││  Grover ││  Grover ││  Grover │           ║  ║  ║  ║ \n",
       "q_6: ┤ H ├┤2        ├┤2        ├┤2        ├┤2        ├┤2        ├┤2        ├┤2        ├┤2        ├┤2        ├┤2        ├┤2        ├┤2        ├┤2        ├┤2        ├┤2        ├───────────╫──╫──╫──╫─\n",
       "     ├───┤│         ││         ││         ││         ││         ││         ││         ││         ││         ││         ││         ││         ││         ││         ││         │           ║  ║  ║  ║ \n",
       "q_7: ┤ H ├┤3        ├┤3        ├┤3        ├┤3        ├┤3        ├┤3        ├┤3        ├┤3        ├┤3        ├┤3        ├┤3        ├┤3        ├┤3        ├┤3        ├┤3        ├───────────╫──╫──╫──╫─\n",
       "     └───┘└─────────┘└─────────┘└─────────┘└─────────┘└─────────┘└─────────┘└─────────┘└─────────┘└─────────┘└─────────┘└─────────┘└─────────┘└─────────┘└─────────┘└─────────┘           ║  ║  ║  ║ \n",
       "c: 4/═════════════════════════════════════════════════════════════════════════════════════════════════════════════════════════════════════════════════════════════════════════════════════╩══╩══╩══╩═\n",
       "                                                                                                                                                                                          0  1  2  3 </pre>"
      ],
      "text/plain": [
       "     ┌───┐                                                                                                                                                                     ┌────────┐┌─┐         \n",
       "q_0: ┤ H ├─────■───────────────────────────────────────────────────────────────────────────────────────────────────────────────────────────────────────────────────────────────┤0       ├┤M├─────────\n",
       "     ├───┤     │                                                                                                                                                               │        │└╥┘┌─┐      \n",
       "q_1: ┤ H ├─────┼──────────■──────────■─────────────────────────────────────────────────────────────────────────────────────────────────────────────────────────────────────────┤1       ├─╫─┤M├──────\n",
       "     ├───┤     │          │          │                                                                                                                                         │  QFT-d │ ║ └╥┘┌─┐   \n",
       "q_2: ┤ H ├─────┼──────────┼──────────┼──────────■──────────■──────────■──────────■─────────────────────────────────────────────────────────────────────────────────────────────┤2       ├─╫──╫─┤M├───\n",
       "     ├───┤     │          │          │          │          │          │          │                                                                                             │        │ ║  ║ └╥┘┌─┐\n",
       "q_3: ┤ H ├─────┼──────────┼──────────┼──────────┼──────────┼──────────┼──────────┼──────────■──────────■──────────■──────────■──────────■──────────■──────────■──────────■─────┤3       ├─╫──╫──╫─┤M├\n",
       "     ├───┤┌────┴────┐┌────┴────┐┌────┴────┐┌────┴────┐┌────┴────┐┌────┴────┐┌────┴────┐┌────┴────┐┌────┴────┐┌────┴────┐┌────┴────┐┌────┴────┐┌────┴────┐┌────┴────┐┌────┴────┐└────────┘ ║  ║  ║ └╥┘\n",
       "q_4: ┤ H ├┤0        ├┤0        ├┤0        ├┤0        ├┤0        ├┤0        ├┤0        ├┤0        ├┤0        ├┤0        ├┤0        ├┤0        ├┤0        ├┤0        ├┤0        ├───────────╫──╫──╫──╫─\n",
       "     ├───┤│         ││         ││         ││         ││         ││         ││         ││         ││         ││         ││         ││         ││         ││         ││         │           ║  ║  ║  ║ \n",
       "q_5: ┤ H ├┤1        ├┤1        ├┤1        ├┤1        ├┤1        ├┤1        ├┤1        ├┤1        ├┤1        ├┤1        ├┤1        ├┤1        ├┤1        ├┤1        ├┤1        ├───────────╫──╫──╫──╫─\n",
       "     ├───┤│  Grover ││  Grover ││  Grover ││  Grover ││  Grover ││  Grover ││  Grover ││  Grover ││  Grover ││  Grover ││  Grover ││  Grover ││  Grover ││  Grover ││  Grover │           ║  ║  ║  ║ \n",
       "q_6: ┤ H ├┤2        ├┤2        ├┤2        ├┤2        ├┤2        ├┤2        ├┤2        ├┤2        ├┤2        ├┤2        ├┤2        ├┤2        ├┤2        ├┤2        ├┤2        ├───────────╫──╫──╫──╫─\n",
       "     ├───┤│         ││         ││         ││         ││         ││         ││         ││         ││         ││         ││         ││         ││         ││         ││         │           ║  ║  ║  ║ \n",
       "q_7: ┤ H ├┤3        ├┤3        ├┤3        ├┤3        ├┤3        ├┤3        ├┤3        ├┤3        ├┤3        ├┤3        ├┤3        ├┤3        ├┤3        ├┤3        ├┤3        ├───────────╫──╫──╫──╫─\n",
       "     └───┘└─────────┘└─────────┘└─────────┘└─────────┘└─────────┘└─────────┘└─────────┘└─────────┘└─────────┘└─────────┘└─────────┘└─────────┘└─────────┘└─────────┘└─────────┘           ║  ║  ║  ║ \n",
       "c: 4/═════════════════════════════════════════════════════════════════════════════════════════════════════════════════════════════════════════════════════════════════════════════════════╩══╩══╩══╩═\n",
       "                                                                                                                                                                                          0  1  2  3 "
      ]
     },
     "execution_count": 22,
     "metadata": {},
     "output_type": "execute_result"
    }
   ],
   "source": [
    "t= 4  # counting qubits\n",
    "n = 4 # searching qubits\n",
    "qc = QuantumCircuit(n+t, t)\n",
    "\n",
    "#initialize qubits to |+>\n",
    "for qubit in range(t+n):\n",
    "    qc.h(qubit)\n",
    "\n",
    "# start controlled-Grover iterations\n",
    "iterations = 1\n",
    "for qubit in range(t):\n",
    "    for i in range(iterations):\n",
    "        qc.append(cgrit, [qubit] + [*range(t, n+t)])\n",
    "    iterations *= 2\n",
    "\n",
    "#inverse QFT on counting qubits and measure\n",
    "qc.append(qft_dagger, range(t))\n",
    "qc.measure(range(t), range(t))\n",
    "\n",
    "qc.draw(fold=-1)"
   ]
  },
  {
   "cell_type": "markdown",
   "metadata": {},
   "source": [
    "#### Simulating"
   ]
  },
  {
   "cell_type": "code",
   "execution_count": 23,
   "metadata": {},
   "outputs": [
    {
     "data": {
      "image/png": "[encoded data removed]",
      "text/plain": [
       "<Figure size 504x360 with 1 Axes>"
      ]
     },
     "execution_count": 23,
     "metadata": {},
     "output_type": "execute_result"
    }
   ],
   "source": [
    "aer_sim = Aer.get_backend('aer_simulator')\n",
    "transpiled_qc = transpile(qc, aer_sim)\n",
    "\n",
    "qobj = assemble(transpiled_qc)\n",
    "job = aer_sim.run(qobj)\n",
    "\n",
    "hist = job.result().get_counts()\n",
    "plot_histogram(hist)"
   ]
  },
  {
   "cell_type": "code",
   "execution_count": 24,
   "metadata": {},
   "outputs": [],
   "source": [
    "measured_str = max(hist, key=hist.get)"
   ]
  },
  {
   "cell_type": "code",
   "execution_count": 25,
   "metadata": {},
   "outputs": [
    {
     "name": "stdout",
     "output_type": "stream",
     "text": [
      "Register output = 14\n"
     ]
    }
   ],
   "source": [
    "measured_int = int(measured_str,2)\n",
    "print(f\"Register output = {measured_int}\")"
   ]
  },
  {
   "cell_type": "markdown",
   "metadata": {},
   "source": [
    "#### Finding the number of solutions"
   ]
  },
  {
   "cell_type": "code",
   "execution_count": 26,
   "metadata": {},
   "outputs": [
    {
     "name": "stdout",
     "output_type": "stream",
     "text": [
      "Theta: 5.497787143782138\n"
     ]
    }
   ],
   "source": [
    "theta = (measured_int / (2**t)) * math.pi * 2\n",
    "print(f\"Theta: {theta}\")"
   ]
  },
  {
   "cell_type": "code",
   "execution_count": 27,
   "metadata": {},
   "outputs": [
    {
     "name": "stdout",
     "output_type": "stream",
     "text": [
      "Number of solutions: 13.65685424949238\n"
     ]
    }
   ],
   "source": [
    "N = 2 ** n\n",
    "M = N * (math.sin(theta/2)**2)\n",
    "print(f\"Number of solutions: {N - M}\")"
   ]
  },
  {
   "cell_type": "code",
   "execution_count": 28,
   "metadata": {},
   "outputs": [
    {
     "name": "stdout",
     "output_type": "stream",
     "text": [
      "Error: 1.2073922002923942\n"
     ]
    }
   ],
   "source": [
    "m = t - 1\n",
    "\n",
    "err = (math.sqrt(2 * M * N) + N/(2**(m+1))) * (2 ** (-m))\n",
    "\n",
    "print(f\"Error: {err}\")"
   ]
  },
  {
   "cell_type": "code",
   "execution_count": 29,
   "metadata": {},
   "outputs": [],
   "source": [
    "def calculate_M(measured_int, t, n):\n",
    "    theta = (measured_int / (2 ** t)) * math.pi * 2\n",
    "    print(f\"Theta = {theta}\")\n",
    "    \n",
    "    N = 2 ** n\n",
    "    M = N * (math.sin(theta/2)**2)\n",
    "    print(f\"Number of solutions: {N - M}\")\n",
    "    \n",
    "    m = t - 1\n",
    "    err = (math.sqrt(2 * M * N) + N/(2**(m+1))) * (2**(-m))\n",
    "    print(f\"Error: {err}\")"
   ]
  },
  {
   "cell_type": "code",
   "execution_count": 30,
   "metadata": {},
   "outputs": [
    {
     "name": "stdout",
     "output_type": "stream",
     "text": [
      "Theta = 5.497787143782138\n",
      "Number of solutions: 13.65685424949238\n",
      "Error: 1.2073922002923942\n"
     ]
    }
   ],
   "source": [
    "calculate_M(measured_int, t, n)"
   ]
  },
  {
   "cell_type": "code",
   "execution_count": null,
   "metadata": {},
   "outputs": [],
   "source": []
  }
 ],
 "metadata": {
  "kernelspec": {
   "display_name": "Python 3",
   "language": "python",
   "name": "python3"
  },
  "language_info": {
   "codemirror_mode": {
    "name": "ipython",
    "version": 3
   },
   "file_extension": ".py",
   "mimetype": "text/x-python",
   "name": "python",
   "nbconvert_exporter": "python",
   "pygments_lexer": "ipython3",
   "version": "3.8.5"
  }
 },
 "nbformat": 4,
 "nbformat_minor": 4
}
