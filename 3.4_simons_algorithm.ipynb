{
 "cells": [
  {
   "cell_type": "markdown",
   "metadata": {},
   "source": [
    "Source: https://qiskit.org/textbook/ch-algorithms/simon.html"
   ]
  },
  {
   "cell_type": "code",
   "execution_count": 1,
   "metadata": {},
   "outputs": [],
   "source": [
    "from qiskit import IBMQ, Aer\n",
    "from qiskit.providers.ibmq import least_busy\n",
    "from qiskit import QuantumCircuit, transpile, assemble\n",
    "\n",
    "from qiskit.visualization import plot_histogram\n",
    "from qiskit_textbook.tools import simon_oracle"
   ]
  },
  {
   "cell_type": "code",
   "execution_count": 2,
   "metadata": {},
   "outputs": [],
   "source": [
    "b = '110'\n",
    "\n",
    "n = len(b)"
   ]
  },
  {
   "cell_type": "code",
   "execution_count": 6,
   "metadata": {},
   "outputs": [
    {
     "data": {
      "text/html": [
       "<pre style=\"word-wrap: normal;white-space: pre;background: #fff0;line-height: 1.1;font-family: &quot;Courier New&quot;,Courier,monospace\">     ┌───┐ ░                           ░ \n",
       "q_0: ┤ H ├─░───■───────────────────────░─\n",
       "     ├───┤ ░   │                       ░ \n",
       "q_1: ┤ H ├─░───┼────■─────────■────■───░─\n",
       "     ├───┤ ░   │    │         │    │   ░ \n",
       "q_2: ┤ H ├─░───┼────┼────■────┼────┼───░─\n",
       "     └───┘ ░ ┌─┴─┐  │    │    │    │   ░ \n",
       "q_3: ──────░─┤ X ├──┼────┼────┼────┼───░─\n",
       "           ░ └───┘┌─┴─┐  │  ┌─┴─┐  │   ░ \n",
       "q_4: ──────░──────┤ X ├──┼──┤ X ├──┼───░─\n",
       "           ░      └───┘┌─┴─┐└───┘┌─┴─┐ ░ \n",
       "q_5: ──────░───────────┤ X ├─────┤ X ├─░─\n",
       "           ░           └───┘     └───┘ ░ \n",
       "c: 3/════════════════════════════════════\n",
       "                                         </pre>"
      ],
      "text/plain": [
       "     ┌───┐ ░                           ░ \n",
       "q_0: ┤ H ├─░───■───────────────────────░─\n",
       "     ├───┤ ░   │                       ░ \n",
       "q_1: ┤ H ├─░───┼────■─────────■────■───░─\n",
       "     ├───┤ ░   │    │         │    │   ░ \n",
       "q_2: ┤ H ├─░───┼────┼────■────┼────┼───░─\n",
       "     └───┘ ░ ┌─┴─┐  │    │    │    │   ░ \n",
       "q_3: ──────░─┤ X ├──┼────┼────┼────┼───░─\n",
       "           ░ └───┘┌─┴─┐  │  ┌─┴─┐  │   ░ \n",
       "q_4: ──────░──────┤ X ├──┼──┤ X ├──┼───░─\n",
       "           ░      └───┘┌─┴─┐└───┘┌─┴─┐ ░ \n",
       "q_5: ──────░───────────┤ X ├─────┤ X ├─░─\n",
       "           ░           └───┘     └───┘ ░ \n",
       "c: 3/════════════════════════════════════\n",
       "                                         "
      ]
     },
     "execution_count": 6,
     "metadata": {},
     "output_type": "execute_result"
    }
   ],
   "source": [
    "simon_circuit = QuantumCircuit(n*2,n)\n",
    "\n",
    "#apply Hadamard gates before querying oracle\n",
    "simon_circuit.h(range(n))\n",
    "simon_circuit.barrier()\n",
    "\n",
    "simon_circuit += simon_oracle(b)\n",
    "simon_circuit.barrier()\n",
    "\n",
    "simon_circuit.draw()"
   ]
  },
  {
   "cell_type": "code",
   "execution_count": 8,
   "metadata": {},
   "outputs": [
    {
     "data": {
      "text/html": [
       "<pre style=\"word-wrap: normal;white-space: pre;background: #fff0;line-height: 1.1;font-family: &quot;Courier New&quot;,Courier,monospace\">     ┌───┐ ░                           ░ ┌───┐┌─┐      \n",
       "q_0: ┤ H ├─░───■───────────────────────░─┤ H ├┤M├──────\n",
       "     ├───┤ ░   │                       ░ ├───┤└╥┘┌─┐   \n",
       "q_1: ┤ H ├─░───┼────■─────────■────■───░─┤ H ├─╫─┤M├───\n",
       "     ├───┤ ░   │    │         │    │   ░ ├───┤ ║ └╥┘┌─┐\n",
       "q_2: ┤ H ├─░───┼────┼────■────┼────┼───░─┤ H ├─╫──╫─┤M├\n",
       "     └───┘ ░ ┌─┴─┐  │    │    │    │   ░ └───┘ ║  ║ └╥┘\n",
       "q_3: ──────░─┤ X ├──┼────┼────┼────┼───░───────╫──╫──╫─\n",
       "           ░ └───┘┌─┴─┐  │  ┌─┴─┐  │   ░       ║  ║  ║ \n",
       "q_4: ──────░──────┤ X ├──┼──┤ X ├──┼───░───────╫──╫──╫─\n",
       "           ░      └───┘┌─┴─┐└───┘┌─┴─┐ ░       ║  ║  ║ \n",
       "q_5: ──────░───────────┤ X ├─────┤ X ├─░───────╫──╫──╫─\n",
       "           ░           └───┘     └───┘ ░       ║  ║  ║ \n",
       "c: 3/══════════════════════════════════════════╩══╩══╩═\n",
       "                                               0  1  2 </pre>"
      ],
      "text/plain": [
       "     ┌───┐ ░                           ░ ┌───┐┌─┐      \n",
       "q_0: ┤ H ├─░───■───────────────────────░─┤ H ├┤M├──────\n",
       "     ├───┤ ░   │                       ░ ├───┤└╥┘┌─┐   \n",
       "q_1: ┤ H ├─░───┼────■─────────■────■───░─┤ H ├─╫─┤M├───\n",
       "     ├───┤ ░   │    │         │    │   ░ ├───┤ ║ └╥┘┌─┐\n",
       "q_2: ┤ H ├─░───┼────┼────■────┼────┼───░─┤ H ├─╫──╫─┤M├\n",
       "     └───┘ ░ ┌─┴─┐  │    │    │    │   ░ └───┘ ║  ║ └╥┘\n",
       "q_3: ──────░─┤ X ├──┼────┼────┼────┼───░───────╫──╫──╫─\n",
       "           ░ └───┘┌─┴─┐  │  ┌─┴─┐  │   ░       ║  ║  ║ \n",
       "q_4: ──────░──────┤ X ├──┼──┤ X ├──┼───░───────╫──╫──╫─\n",
       "           ░      └───┘┌─┴─┐└───┘┌─┴─┐ ░       ║  ║  ║ \n",
       "q_5: ──────░───────────┤ X ├─────┤ X ├─░───────╫──╫──╫─\n",
       "           ░           └───┘     └───┘ ░       ║  ║  ║ \n",
       "c: 3/══════════════════════════════════════════╩══╩══╩═\n",
       "                                               0  1  2 "
      ]
     },
     "execution_count": 8,
     "metadata": {},
     "output_type": "execute_result"
    }
   ],
   "source": [
    "#apply Hadamard gates to the input registers and measure\n",
    "\n",
    "simon_circuit.h(range(n))\n",
    "\n",
    "simon_circuit.measure(range(n),range(n))\n",
    "\n",
    "simon_circuit.draw()"
   ]
  },
  {
   "cell_type": "markdown",
   "metadata": {},
   "source": [
    "#### Experiment with Simulators"
   ]
  },
  {
   "cell_type": "code",
   "execution_count": 10,
   "metadata": {},
   "outputs": [
    {
     "data": {
      "image/png": "[encoded data removed]",
      "text/plain": [
       "<Figure size 504x360 with 1 Axes>"
      ]
     },
     "execution_count": 10,
     "metadata": {},
     "output_type": "execute_result"
    }
   ],
   "source": [
    "#local simulator\n",
    "aer_sim = Aer.get_backend('aer_simulator')\n",
    "shots = 1024\n",
    "\n",
    "qobj = assemble(simon_circuit, shots=shots)\n",
    "\n",
    "results = aer_sim.run(qobj).result()\n",
    "counts = results.get_counts()\n",
    "\n",
    "plot_histogram(counts)"
   ]
  },
  {
   "cell_type": "markdown",
   "metadata": {},
   "source": [
    "Now we verify that the results satisfy b * z = 0 (mod 2)"
   ]
  },
  {
   "cell_type": "code",
   "execution_count": 11,
   "metadata": {},
   "outputs": [
    {
     "name": "stdout",
     "output_type": "stream",
     "text": [
      "110 * 001 = 0 (mod 2)\n",
      "110 * 110 = 0 (mod 2)\n",
      "110 * 000 = 0 (mod 2)\n",
      "110 * 111 = 0 (mod 2)\n"
     ]
    }
   ],
   "source": [
    "#calculate dot product of results\n",
    "def bdotz(b,z):\n",
    "    accum = 0\n",
    "    for i in range(len(b)):\n",
    "        accum += int(b[i]) * int(z[i])\n",
    "    return (accum % 2)\n",
    "\n",
    "for z in counts:\n",
    "    print(f\"{b} * {z} = {bdotz(b,z)} (mod 2)\")"
   ]
  },
  {
   "cell_type": "markdown",
   "metadata": {},
   "source": [
    "#### Experiment with real devices"
   ]
  },
  {
   "cell_type": "code",
   "execution_count": 12,
   "metadata": {},
   "outputs": [],
   "source": [
    "b = '11'\n",
    "n = len(b)"
   ]
  },
  {
   "cell_type": "code",
   "execution_count": 13,
   "metadata": {},
   "outputs": [
    {
     "data": {
      "text/html": [
       "<pre style=\"word-wrap: normal;white-space: pre;background: #fff0;line-height: 1.1;font-family: &quot;Courier New&quot;,Courier,monospace\">     ┌───┐                         ┌───┐┌─┐\n",
       "q_0: ┤ H ├──■─────────■─────────■──┤ H ├┤M├\n",
       "     ├───┤  │         │  ┌───┐  │  └┬─┬┘└╥┘\n",
       "q_1: ┤ H ├──┼────■────┼──┤ H ├──┼───┤M├──╫─\n",
       "     └───┘┌─┴─┐  │  ┌─┴─┐└───┘  │   └╥┘  ║ \n",
       "q_2: ─────┤ X ├──┼──┤ X ├───────┼────╫───╫─\n",
       "          └───┘┌─┴─┐└───┘     ┌─┴─┐  ║   ║ \n",
       "q_3: ──────────┤ X ├──────────┤ X ├──╫───╫─\n",
       "               └───┘          └───┘  ║   ║ \n",
       "c: 2/════════════════════════════════╩═══╩═\n",
       "                                     1   0 </pre>"
      ],
      "text/plain": [
       "     ┌───┐                         ┌───┐┌─┐\n",
       "q_0: ┤ H ├──■─────────■─────────■──┤ H ├┤M├\n",
       "     ├───┤  │         │  ┌───┐  │  └┬─┬┘└╥┘\n",
       "q_1: ┤ H ├──┼────■────┼──┤ H ├──┼───┤M├──╫─\n",
       "     └───┘┌─┴─┐  │  ┌─┴─┐└───┘  │   └╥┘  ║ \n",
       "q_2: ─────┤ X ├──┼──┤ X ├───────┼────╫───╫─\n",
       "          └───┘┌─┴─┐└───┘     ┌─┴─┐  ║   ║ \n",
       "q_3: ──────────┤ X ├──────────┤ X ├──╫───╫─\n",
       "               └───┘          └───┘  ║   ║ \n",
       "c: 2/════════════════════════════════╩═══╩═\n",
       "                                     1   0 "
      ]
     },
     "execution_count": 13,
     "metadata": {},
     "output_type": "execute_result"
    }
   ],
   "source": [
    "simon_circuit_2 = QuantumCircuit(n*2, n)\n",
    "\n",
    "#apply Hadamard gates, query the oracle, apply more Hadamard gates\n",
    "\n",
    "simon_circuit_2.h(range(n))\n",
    "simon_circuit_2 += simon_oracle(b)\n",
    "simon_circuit_2.h(range(n))\n",
    "\n",
    "#measure\n",
    "simon_circuit_2.measure(range(n), range(n))\n",
    "\n",
    "simon_circuit_2.draw()"
   ]
  },
  {
   "cell_type": "code",
   "execution_count": 14,
   "metadata": {},
   "outputs": [
    {
     "name": "stdout",
     "output_type": "stream",
     "text": [
      "Least busy backend: ibmq_belem\n"
     ]
    }
   ],
   "source": [
    "IBMQ.load_account()\n",
    "provider = IBMQ.get_provider(hub='ibm-q')\n",
    "backend = least_busy(provider.backends(\n",
    "            filters=lambda x: x.configuration().n_qubits >= n and \n",
    "            not x.configuration().simulator and x.status().operational==True))\n",
    "\n",
    "print(f\"Least busy backend: {backend}\")"
   ]
  },
  {
   "cell_type": "code",
   "execution_count": 16,
   "metadata": {},
   "outputs": [],
   "source": [
    "from qiskit.tools.monitor import job_monitor"
   ]
  },
  {
   "cell_type": "code",
   "execution_count": 17,
   "metadata": {},
   "outputs": [
    {
     "name": "stderr",
     "output_type": "stream",
     "text": [
      "<ipython-input-17-4f140503ed18>:6: DeprecationWarning: Passing a Qobj to Backend.run is deprecated and will be removed in a future release. Please pass in circuits or pulse schedules instead.\n",
      "  job = backend.run(qobj)\n"
     ]
    },
    {
     "name": "stdout",
     "output_type": "stream",
     "text": [
      "Job Status: job has successfully run\n"
     ]
    }
   ],
   "source": [
    "shots = 1024\n",
    "\n",
    "transpiled_simon_circuit = transpile(simon_circuit_2, backend, optimization_level = 3)\n",
    "qobj = assemble(transpiled_simon_circuit,shots=shots)\n",
    "\n",
    "job = backend.run(qobj)\n",
    "job_monitor(job,interval = 2)"
   ]
  },
  {
   "cell_type": "code",
   "execution_count": 19,
   "metadata": {},
   "outputs": [
    {
     "data": {
      "image/png": "[encoded data removed]",
      "text/plain": [
       "<Figure size 504x360 with 1 Axes>"
      ]
     },
     "execution_count": 19,
     "metadata": {},
     "output_type": "execute_result"
    }
   ],
   "source": [
    "device_counts = job.result().get_counts()\n",
    "\n",
    "plot_histogram(device_counts)"
   ]
  },
  {
   "cell_type": "code",
   "execution_count": 25,
   "metadata": {},
   "outputs": [
    {
     "name": "stdout",
     "output_type": "stream",
     "text": [
      "b = 11\n",
      "11 * 00 = 0 (mod 2) 52.54%\n",
      "11 * 01 = 1 (mod 2) 8.4%\n",
      "11 * 10 = 1 (mod 2) 4.98%\n",
      "11 * 11 = 0 (mod 2) 34.08%\n"
     ]
    }
   ],
   "source": [
    "#calculate dot product of the results\n",
    "\n",
    "def bdotz(b,z):\n",
    "    accum = 0\n",
    "    for i in range(len(b)):\n",
    "        accum += int(b[i]) * int(z[i])\n",
    "    return accum % 2\n",
    "\n",
    "print(f\"b = {b}\")\n",
    "\n",
    "for z in device_counts:\n",
    "    print(f\"{b} * {z} = {bdotz(b,z)} (mod 2) {round(device_counts[z]*100/shots,2)}%\")"
   ]
  },
  {
   "cell_type": "code",
   "execution_count": null,
   "metadata": {},
   "outputs": [],
   "source": []
  }
 ],
 "metadata": {
  "kernelspec": {
   "display_name": "Python 3",
   "language": "python",
   "name": "python3"
  },
  "language_info": {
   "codemirror_mode": {
    "name": "ipython",
    "version": 3
   },
   "file_extension": ".py",
   "mimetype": "text/x-python",
   "name": "python",
   "nbconvert_exporter": "python",
   "pygments_lexer": "ipython3",
   "version": "3.8.5"
  }
 },
 "nbformat": 4,
 "nbformat_minor": 4
}
