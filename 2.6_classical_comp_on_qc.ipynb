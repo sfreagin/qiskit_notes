{
 "cells": [
  {
   "cell_type": "code",
   "execution_count": 1,
   "metadata": {},
   "outputs": [],
   "source": [
    "from qiskit import QuantumCircuit, QuantumRegister"
   ]
  },
  {
   "cell_type": "code",
   "execution_count": 2,
   "metadata": {},
   "outputs": [
    {
     "data": {
      "text/html": [
       "<pre style=\"word-wrap: normal;white-space: pre;background: #fff0;line-height: 1.1;font-family: &quot;Courier New&quot;,Courier,monospace\">                \n",
       "  input_0: ──■──\n",
       "           ┌─┴─┐\n",
       " output_0: ┤ X ├\n",
       "           └───┘\n",
       "garbage_0: ─────\n",
       "                </pre>"
      ],
      "text/plain": [
       "                \n",
       "  input_0: ──■──\n",
       "           ┌─┴─┐\n",
       " output_0: ┤ X ├\n",
       "           └───┘\n",
       "garbage_0: ─────\n",
       "                "
      ]
     },
     "execution_count": 2,
     "metadata": {},
     "output_type": "execute_result"
    }
   ],
   "source": [
    "input_bit = QuantumRegister(1,'input')\n",
    "output_bit = QuantumRegister(1,'output')\n",
    "garbage_bit = QuantumRegister(1,'garbage')\n",
    "\n",
    "Uf = QuantumCircuit(input_bit, output_bit, garbage_bit)\n",
    "Uf.cx(input_bit[0], output_bit[0])\n",
    "\n",
    "Uf.draw()"
   ]
  },
  {
   "cell_type": "code",
   "execution_count": 3,
   "metadata": {},
   "outputs": [
    {
     "data": {
      "text/html": [
       "<pre style=\"word-wrap: normal;white-space: pre;background: #fff0;line-height: 1.1;font-family: &quot;Courier New&quot;,Courier,monospace\">                     \n",
       "  input_0: ──■────■──\n",
       "             │  ┌─┴─┐\n",
       " output_0: ──┼──┤ X ├\n",
       "           ┌─┴─┐└───┘\n",
       "garbage_0: ┤ X ├─────\n",
       "           └───┘     </pre>"
      ],
      "text/plain": [
       "                     \n",
       "  input_0: ──■────■──\n",
       "             │  ┌─┴─┐\n",
       " output_0: ──┼──┤ X ├\n",
       "           ┌─┴─┐└───┘\n",
       "garbage_0: ┤ X ├─────\n",
       "           └───┘     "
      ]
     },
     "execution_count": 3,
     "metadata": {},
     "output_type": "execute_result"
    }
   ],
   "source": [
    "Vf = QuantumCircuit(input_bit, output_bit, garbage_bit)\n",
    "\n",
    "Vf.cx(input_bit[0], garbage_bit[0])\n",
    "Vf.cx(input_bit[0], output_bit[0])\n",
    "\n",
    "Vf.draw()"
   ]
  },
  {
   "cell_type": "code",
   "execution_count": 4,
   "metadata": {},
   "outputs": [
    {
     "name": "stderr",
     "output_type": "stream",
     "text": [
      "<ipython-input-4-262dd2819ad4>:1: DeprecationWarning: The QuantumCircuit.__add__() method is being deprecated.Use the compose() method which is more flexible w.r.t circuit register compatibility.\n",
      "  qc = Uf + Vf.inverse()\n",
      "C:\\ProgramData\\Anaconda3\\lib\\site-packages\\qiskit\\circuit\\quantumcircuit.py:869: DeprecationWarning: The QuantumCircuit.combine() method is being deprecated. Use the compose() method which is more flexible w.r.t circuit register compatibility.\n",
      "  return self.combine(rhs)\n"
     ]
    },
    {
     "data": {
      "text/html": [
       "<pre style=\"word-wrap: normal;white-space: pre;background: #fff0;line-height: 1.1;font-family: &quot;Courier New&quot;,Courier,monospace\">                          \n",
       "  input_0: ──■────■────■──\n",
       "           ┌─┴─┐┌─┴─┐  │  \n",
       " output_0: ┤ X ├┤ X ├──┼──\n",
       "           └───┘└───┘┌─┴─┐\n",
       "garbage_0: ──────────┤ X ├\n",
       "                     └───┘</pre>"
      ],
      "text/plain": [
       "                          \n",
       "  input_0: ──■────■────■──\n",
       "           ┌─┴─┐┌─┴─┐  │  \n",
       " output_0: ┤ X ├┤ X ├──┼──\n",
       "           └───┘└───┘┌─┴─┐\n",
       "garbage_0: ──────────┤ X ├\n",
       "                     └───┘"
      ]
     },
     "execution_count": 4,
     "metadata": {},
     "output_type": "execute_result"
    }
   ],
   "source": [
    "qc = Uf + Vf.inverse()\n",
    "qc.draw()"
   ]
  },
  {
   "cell_type": "code",
   "execution_count": 7,
   "metadata": {},
   "outputs": [
    {
     "data": {
      "text/html": [
       "<pre style=\"word-wrap: normal;white-space: pre;background: #fff0;line-height: 1.1;font-family: &quot;Courier New&quot;,Courier,monospace\">                          \n",
       "  input_0: ──■────■────■──\n",
       "           ┌─┴─┐┌─┴─┐  │  \n",
       " output_0: ┤ X ├┤ X ├──┼──\n",
       "           └───┘└───┘┌─┴─┐\n",
       "garbage_0: ──────────┤ X ├\n",
       "                     └───┘</pre>"
      ],
      "text/plain": [
       "                          \n",
       "  input_0: ──■────■────■──\n",
       "           ┌─┴─┐┌─┴─┐  │  \n",
       " output_0: ┤ X ├┤ X ├──┼──\n",
       "           └───┘└───┘┌─┴─┐\n",
       "garbage_0: ──────────┤ X ├\n",
       "                     └───┘"
      ]
     },
     "execution_count": 7,
     "metadata": {},
     "output_type": "execute_result"
    }
   ],
   "source": [
    "some_qc = Uf.combine(Vf.inverse())\n",
    "some_qc.draw()"
   ]
  },
  {
   "cell_type": "code",
   "execution_count": 8,
   "metadata": {},
   "outputs": [
    {
     "data": {
      "text/html": [
       "<pre style=\"word-wrap: normal;white-space: pre;background: #fff0;line-height: 1.1;font-family: &quot;Courier New&quot;,Courier,monospace\">                     \n",
       "      output_0: ──■──\n",
       "                ┌─┴─┐\n",
       "final-output_0: ┤ X ├\n",
       "                └───┘</pre>"
      ],
      "text/plain": [
       "                     \n",
       "      output_0: ──■──\n",
       "                ┌─┴─┐\n",
       "final-output_0: ┤ X ├\n",
       "                └───┘"
      ]
     },
     "execution_count": 8,
     "metadata": {},
     "output_type": "execute_result"
    }
   ],
   "source": [
    "final_output_bit = QuantumRegister(1, 'final-output')\n",
    "\n",
    "copy = QuantumCircuit(output_bit, final_output_bit)\n",
    "copy.cx(output_bit, final_output_bit)\n",
    "\n",
    "copy.draw()"
   ]
  },
  {
   "cell_type": "code",
   "execution_count": 11,
   "metadata": {},
   "outputs": [
    {
     "data": {
      "text/html": [
       "<pre style=\"word-wrap: normal;white-space: pre;background: #fff0;line-height: 1.1;font-family: &quot;Courier New&quot;,Courier,monospace\">                                         \n",
       "       input_0: ──■────■─────────■────■──\n",
       "                ┌─┴─┐  │         │  ┌─┴─┐\n",
       "      output_0: ┤ X ├──┼────■────┼──┤ X ├\n",
       "                └───┘┌─┴─┐  │  ┌─┴─┐└───┘\n",
       "     garbage_0: ─────┤ X ├──┼──┤ X ├─────\n",
       "                     └───┘┌─┴─┐└───┘     \n",
       "final-output_0: ──────────┤ X ├──────────\n",
       "                          └───┘          </pre>"
      ],
      "text/plain": [
       "                                         \n",
       "       input_0: ──■────■─────────■────■──\n",
       "                ┌─┴─┐  │         │  ┌─┴─┐\n",
       "      output_0: ┤ X ├──┼────■────┼──┤ X ├\n",
       "                └───┘┌─┴─┐  │  ┌─┴─┐└───┘\n",
       "     garbage_0: ─────┤ X ├──┼──┤ X ├─────\n",
       "                     └───┘┌─┴─┐└───┘     \n",
       "final-output_0: ──────────┤ X ├──────────\n",
       "                          └───┘          "
      ]
     },
     "execution_count": 11,
     "metadata": {},
     "output_type": "execute_result"
    }
   ],
   "source": [
    "(Vf.inverse() + copy + Vf).draw()"
   ]
  },
  {
   "cell_type": "code",
   "execution_count": null,
   "metadata": {},
   "outputs": [],
   "source": []
  }
 ],
 "metadata": {
  "kernelspec": {
   "display_name": "Python 3",
   "language": "python",
   "name": "python3"
  },
  "language_info": {
   "codemirror_mode": {
    "name": "ipython",
    "version": 3
   },
   "file_extension": ".py",
   "mimetype": "text/x-python",
   "name": "python",
   "nbconvert_exporter": "python",
   "pygments_lexer": "ipython3",
   "version": "3.8.5"
  }
 },
 "nbformat": 4,
 "nbformat_minor": 4
}
