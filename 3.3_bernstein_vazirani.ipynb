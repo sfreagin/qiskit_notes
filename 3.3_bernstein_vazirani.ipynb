{
 "cells": [
  {
   "cell_type": "code",
   "execution_count": 1,
   "metadata": {},
   "outputs": [],
   "source": [
    "import matplotlib.pyplot as plt\n",
    "import numpy as np\n",
    "\n",
    "from qiskit import IBMQ, Aer\n",
    "from qiskit.providers.ibmq import least_busy\n",
    "from qiskit import QuantumCircuit, ClassicalRegister, QuantumRegister, transpile, assemble\n",
    "\n",
    "from qiskit.visualization import plot_histogram"
   ]
  },
  {
   "cell_type": "code",
   "execution_count": 2,
   "metadata": {},
   "outputs": [],
   "source": [
    "#take a three bit function, s = 011\n",
    "n = 3\n",
    "s='011'"
   ]
  },
  {
   "cell_type": "code",
   "execution_count": 4,
   "metadata": {},
   "outputs": [
    {
     "data": {
      "text/html": [
       "<pre style=\"word-wrap: normal;white-space: pre;background: #fff0;line-height: 1.1;font-family: &quot;Courier New&quot;,Courier,monospace\">     ┌───┐      ░ \n",
       "q_0: ┤ H ├──────░─\n",
       "     ├───┤      ░ \n",
       "q_1: ┤ H ├──────░─\n",
       "     ├───┤      ░ \n",
       "q_2: ┤ H ├──────░─\n",
       "     ├───┤┌───┐ ░ \n",
       "q_3: ┤ H ├┤ Z ├─░─\n",
       "     └───┘└───┘ ░ \n",
       "c: 3/═════════════\n",
       "                  </pre>"
      ],
      "text/plain": [
       "     ┌───┐      ░ \n",
       "q_0: ┤ H ├──────░─\n",
       "     ├───┤      ░ \n",
       "q_1: ┤ H ├──────░─\n",
       "     ├───┤      ░ \n",
       "q_2: ┤ H ├──────░─\n",
       "     ├───┤┌───┐ ░ \n",
       "q_3: ┤ H ├┤ Z ├─░─\n",
       "     └───┘└───┘ ░ \n",
       "c: 3/═════════════\n",
       "                  "
      ]
     },
     "execution_count": 4,
     "metadata": {},
     "output_type": "execute_result"
    }
   ],
   "source": [
    "#we need a circuit with n qubits and 1 auxiliary bit\n",
    "#also need n classical bits to write the output\n",
    "bv_circuit = QuantumCircuit(n+1,n)\n",
    "\n",
    "#put auxiliary in state |->\n",
    "bv_circuit.h(n)\n",
    "bv_circuit.z(n)\n",
    "\n",
    "#apply Hadamard gates before querying the oracle\n",
    "for i in range(n):\n",
    "    bv_circuit.h(i)\n",
    "\n",
    "bv_circuit.barrier()\n",
    "\n",
    "bv_circuit.draw()"
   ]
  },
  {
   "cell_type": "code",
   "execution_count": 5,
   "metadata": {},
   "outputs": [
    {
     "data": {
      "text/html": [
       "<pre style=\"word-wrap: normal;white-space: pre;background: #fff0;line-height: 1.1;font-family: &quot;Courier New&quot;,Courier,monospace\">     ┌───┐      ░                 ░ \n",
       "q_0: ┤ H ├──────░───■─────────────░─\n",
       "     ├───┤      ░   │             ░ \n",
       "q_1: ┤ H ├──────░───┼─────────■───░─\n",
       "     ├───┤      ░   │  ┌───┐  │   ░ \n",
       "q_2: ┤ H ├──────░───┼──┤ I ├──┼───░─\n",
       "     ├───┤┌───┐ ░ ┌─┴─┐└───┘┌─┴─┐ ░ \n",
       "q_3: ┤ H ├┤ Z ├─░─┤ X ├─────┤ X ├─░─\n",
       "     └───┘└───┘ ░ └───┘     └───┘ ░ \n",
       "c: 3/═══════════════════════════════\n",
       "                                    </pre>"
      ],
      "text/plain": [
       "     ┌───┐      ░                 ░ \n",
       "q_0: ┤ H ├──────░───■─────────────░─\n",
       "     ├───┤      ░   │             ░ \n",
       "q_1: ┤ H ├──────░───┼─────────■───░─\n",
       "     ├───┤      ░   │  ┌───┐  │   ░ \n",
       "q_2: ┤ H ├──────░───┼──┤ I ├──┼───░─\n",
       "     ├───┤┌───┐ ░ ┌─┴─┐└───┘┌─┴─┐ ░ \n",
       "q_3: ┤ H ├┤ Z ├─░─┤ X ├─────┤ X ├─░─\n",
       "     └───┘└───┘ ░ └───┘     └───┘ ░ \n",
       "c: 3/═══════════════════════════════\n",
       "                                    "
      ]
     },
     "execution_count": 5,
     "metadata": {},
     "output_type": "execute_result"
    }
   ],
   "source": [
    "#apply inner product oracle\n",
    "#also reverse s string to fit qiskit's qubit ordering\n",
    "s = s[::-1]\n",
    "\n",
    "for q in range(n):\n",
    "    if s[q] == '0':\n",
    "        bv_circuit.i(q)\n",
    "    else:\n",
    "        bv_circuit.cx(q,n)\n",
    "        \n",
    "bv_circuit.barrier()\n",
    "\n",
    "bv_circuit.draw()"
   ]
  },
  {
   "cell_type": "code",
   "execution_count": 6,
   "metadata": {},
   "outputs": [
    {
     "data": {
      "text/html": [
       "<pre style=\"word-wrap: normal;white-space: pre;background: #fff0;line-height: 1.1;font-family: &quot;Courier New&quot;,Courier,monospace\">     ┌───┐      ░                 ░ ┌───┐┌─┐      \n",
       "q_0: ┤ H ├──────░───■─────────────░─┤ H ├┤M├──────\n",
       "     ├───┤      ░   │             ░ ├───┤└╥┘┌─┐   \n",
       "q_1: ┤ H ├──────░───┼─────────■───░─┤ H ├─╫─┤M├───\n",
       "     ├───┤      ░   │  ┌───┐  │   ░ ├───┤ ║ └╥┘┌─┐\n",
       "q_2: ┤ H ├──────░───┼──┤ I ├──┼───░─┤ H ├─╫──╫─┤M├\n",
       "     ├───┤┌───┐ ░ ┌─┴─┐└───┘┌─┴─┐ ░ └───┘ ║  ║ └╥┘\n",
       "q_3: ┤ H ├┤ Z ├─░─┤ X ├─────┤ X ├─░───────╫──╫──╫─\n",
       "     └───┘└───┘ ░ └───┘     └───┘ ░       ║  ║  ║ \n",
       "c: 3/═════════════════════════════════════╩══╩══╩═\n",
       "                                          0  1  2 </pre>"
      ],
      "text/plain": [
       "     ┌───┐      ░                 ░ ┌───┐┌─┐      \n",
       "q_0: ┤ H ├──────░───■─────────────░─┤ H ├┤M├──────\n",
       "     ├───┤      ░   │             ░ ├───┤└╥┘┌─┐   \n",
       "q_1: ┤ H ├──────░───┼─────────■───░─┤ H ├─╫─┤M├───\n",
       "     ├───┤      ░   │  ┌───┐  │   ░ ├───┤ ║ └╥┘┌─┐\n",
       "q_2: ┤ H ├──────░───┼──┤ I ├──┼───░─┤ H ├─╫──╫─┤M├\n",
       "     ├───┤┌───┐ ░ ┌─┴─┐└───┘┌─┴─┐ ░ └───┘ ║  ║ └╥┘\n",
       "q_3: ┤ H ├┤ Z ├─░─┤ X ├─────┤ X ├─░───────╫──╫──╫─\n",
       "     └───┘└───┘ ░ └───┘     └───┘ ░       ║  ║  ║ \n",
       "c: 3/═════════════════════════════════════╩══╩══╩═\n",
       "                                          0  1  2 "
      ]
     },
     "execution_count": 6,
     "metadata": {},
     "output_type": "execute_result"
    }
   ],
   "source": [
    "#apply Hadamard gates after querying the oracle\n",
    "for i in range(n):\n",
    "    bv_circuit.h(i)\n",
    "\n",
    "#measurement\n",
    "for i in range(n):\n",
    "    bv_circuit.measure(i,i)\n",
    "    \n",
    "bv_circuit.draw()"
   ]
  },
  {
   "cell_type": "markdown",
   "metadata": {},
   "source": [
    "#### Experiment with simulators"
   ]
  },
  {
   "cell_type": "code",
   "execution_count": 8,
   "metadata": {},
   "outputs": [
    {
     "data": {
      "image/png": "[encoded data removed]",
      "text/plain": [
       "<Figure size 504x360 with 1 Axes>"
      ]
     },
     "execution_count": 8,
     "metadata": {},
     "output_type": "execute_result"
    }
   ],
   "source": [
    "#use local simulator\n",
    "aer_sim = Aer.get_backend('aer_simulator')\n",
    "shots = 1024\n",
    "\n",
    "qobj = assemble(bv_circuit)\n",
    "results = aer_sim.run(qobj).result()\n",
    "answer = results.get_counts()\n",
    "\n",
    "plot_histogram(answer)"
   ]
  },
  {
   "cell_type": "markdown",
   "metadata": {},
   "source": [
    "As seen above, the result of measurement is the hidden string 011\n",
    "\n",
    "#### Experiment with real devices"
   ]
  },
  {
   "cell_type": "code",
   "execution_count": 9,
   "metadata": {},
   "outputs": [
    {
     "name": "stdout",
     "output_type": "stream",
     "text": [
      "Least busy backend: ibmq_belem\n"
     ]
    }
   ],
   "source": [
    "IBMQ.load_account()\n",
    "\n",
    "provider = IBMQ.get_provider(hub='ibm-q')\n",
    "provider.backends\n",
    "\n",
    "backend = least_busy(provider.backends(\n",
    "                    filters = lambda x: x.configuration().n_qubits <= 5 and\n",
    "                    x.configuration().n_qubits >= 2 and\n",
    "                    not x.configuration().simulator and x.status().operational==True))\n",
    "\n",
    "print(f\"Least busy backend: {backend}\")"
   ]
  },
  {
   "cell_type": "code",
   "execution_count": 11,
   "metadata": {},
   "outputs": [
    {
     "name": "stdout",
     "output_type": "stream",
     "text": [
      "Job Status: job has successfully run\n"
     ]
    }
   ],
   "source": [
    "#run circuit on the least busy backend\n",
    "from qiskit.tools.monitor import job_monitor\n",
    "\n",
    "shots = 1024\n",
    "transpiled_bv_circuit = transpile(bv_circuit, backend)\n",
    "job = backend.run(transpiled_bv_circuit, shots=shots)\n",
    "\n",
    "job_monitor(job, interval = 2)"
   ]
  },
  {
   "cell_type": "code",
   "execution_count": 13,
   "metadata": {},
   "outputs": [
    {
     "data": {
      "image/png": "[encoded data removed]",
      "text/plain": [
       "<Figure size 504x360 with 1 Axes>"
      ]
     },
     "execution_count": 13,
     "metadata": {},
     "output_type": "execute_result"
    }
   ],
   "source": [
    "#get the results\n",
    "results = job.result()\n",
    "answer = results.get_counts()\n",
    "\n",
    "plot_histogram(answer)"
   ]
  },
  {
   "cell_type": "code",
   "execution_count": null,
   "metadata": {},
   "outputs": [],
   "source": []
  }
 ],
 "metadata": {
  "kernelspec": {
   "display_name": "Python 3",
   "language": "python",
   "name": "python3"
  },
  "language_info": {
   "codemirror_mode": {
    "name": "ipython",
    "version": 3
   },
   "file_extension": ".py",
   "mimetype": "text/x-python",
   "name": "python",
   "nbconvert_exporter": "python",
   "pygments_lexer": "ipython3",
   "version": "3.8.5"
  }
 },
 "nbformat": 4,
 "nbformat_minor": 4
}
