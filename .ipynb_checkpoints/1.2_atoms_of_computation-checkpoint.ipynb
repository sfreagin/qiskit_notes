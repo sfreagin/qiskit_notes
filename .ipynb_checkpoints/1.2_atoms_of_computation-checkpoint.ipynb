{
 "cells": [
  {
   "cell_type": "markdown",
   "metadata": {},
   "source": [
    "# Atoms of Computation\n",
    "This section goes over some basics for setting up a quantum circuit\n",
    "\n",
    "Source: https://qiskit.org/textbook/ch-states/atoms-computation.html"
   ]
  },
  {
   "cell_type": "code",
   "execution_count": 1,
   "metadata": {},
   "outputs": [],
   "source": [
    "from qiskit import QuantumCircuit, assemble, Aer\n",
    "from qiskit.visualization import plot_histogram"
   ]
  },
  {
   "cell_type": "code",
   "execution_count": 2,
   "metadata": {},
   "outputs": [
    {
     "data": {
      "application/vnd.jupyter.widget-view+json": {
       "model_id": "3643ac1ae09b47fca79ae872465b0466",
       "version_major": 2,
       "version_minor": 0
      },
      "text/plain": [
       "VBox(children=(Label(value='Toggle the bits below to change the binary number.'), Label(value='Think of a numb…"
      ]
     },
     "metadata": {},
     "output_type": "display_data"
    },
    {
     "data": {
      "application/vnd.jupyter.widget-view+json": {
       "model_id": "e5b9204f63904bca8daddf8a90625fc0",
       "version_major": 2,
       "version_minor": 0
      },
      "text/plain": [
       "HTML(value='<pre>Binary   Decimal\\n 00000 = 0</pre>')"
      ]
     },
     "metadata": {},
     "output_type": "display_data"
    }
   ],
   "source": [
    "from qiskit_textbook.widgets import binary_widget\n",
    "binary_widget(nbits=5)"
   ]
  },
  {
   "cell_type": "code",
   "execution_count": 64,
   "metadata": {},
   "outputs": [],
   "source": [
    "# first quantum circuit\n",
    "\n",
    "n = 8\n",
    "n_q = n\n",
    "n_b = n\n",
    "qc_output = QuantumCircuit(n_q,n_b)"
   ]
  },
  {
   "cell_type": "code",
   "execution_count": 65,
   "metadata": {},
   "outputs": [
    {
     "data": {
      "text/html": [
       "<pre style=\"word-wrap: normal;white-space: pre;background: #fff0;line-height: 1.1;font-family: &quot;Courier New&quot;,Courier,monospace\">     ┌─┐┌───┐                                                                 »\n",
       "q_0: ┤M├┤ H ├──■──────────────────────────────────────────────────────────────»\n",
       "     └╥┘└───┘┌─┴─┐┌─┐┌───┐                                                    »\n",
       "q_1: ─╫──────┤ X ├┤M├┤ H ├──■─────────────────────────────────────────────────»\n",
       "      ║      └───┘└╥┘└───┘┌─┴─┐┌─┐┌───┐                                       »\n",
       "q_2: ─╫────────────╫──────┤ X ├┤M├┤ H ├──■────────────────────────────────────»\n",
       "      ║            ║      └───┘└╥┘└───┘┌─┴─┐┌─┐┌───┐                          »\n",
       "q_3: ─╫────────────╫────────────╫──────┤ X ├┤M├┤ H ├──■───────────────────────»\n",
       "      ║            ║            ║      └───┘└╥┘└───┘┌─┴─┐┌─┐┌───┐             »\n",
       "q_4: ─╫────────────╫────────────╫────────────╫──────┤ X ├┤M├┤ H ├──■──────────»\n",
       "      ║            ║            ║            ║      └───┘└╥┘└───┘┌─┴─┐┌─┐┌───┐»\n",
       "q_5: ─╫────────────╫────────────╫────────────╫────────────╫──────┤ X ├┤M├┤ H ├»\n",
       "      ║            ║            ║            ║            ║      └───┘└╥┘└───┘»\n",
       "q_6: ─╫────────────╫────────────╫────────────╫────────────╫────────────╫──────»\n",
       "      ║            ║            ║            ║            ║            ║      »\n",
       "q_7: ─╫────────────╫────────────╫────────────╫────────────╫────────────╫──────»\n",
       "      ║            ║            ║            ║            ║            ║      »\n",
       "c: 8/═╩════════════╩════════════╩════════════╩════════════╩════════════╩══════»\n",
       "      0            1            2            3            4            5      »\n",
       "«                             \n",
       "«q_0: ────────────────────────\n",
       "«                             \n",
       "«q_1: ────────────────────────\n",
       "«                             \n",
       "«q_2: ────────────────────────\n",
       "«                             \n",
       "«q_3: ────────────────────────\n",
       "«                             \n",
       "«q_4: ────────────────────────\n",
       "«                             \n",
       "«q_5: ──■─────────────────────\n",
       "«     ┌─┴─┐┌─┐┌───┐           \n",
       "«q_6: ┤ X ├┤M├┤ H ├──■────────\n",
       "«     └───┘└╥┘└───┘┌─┴─┐┌─┐┌─┐\n",
       "«q_7: ──────╫──────┤ X ├┤M├┤M├\n",
       "«           ║      └───┘└╥┘└╥┘\n",
       "«c: 8/══════╩════════════╩══╩═\n",
       "«           6            7  7 </pre>"
      ],
      "text/plain": [
       "     ┌─┐┌───┐                                                                 »\n",
       "q_0: ┤M├┤ H ├──■──────────────────────────────────────────────────────────────»\n",
       "     └╥┘└───┘┌─┴─┐┌─┐┌───┐                                                    »\n",
       "q_1: ─╫──────┤ X ├┤M├┤ H ├──■─────────────────────────────────────────────────»\n",
       "      ║      └───┘└╥┘└───┘┌─┴─┐┌─┐┌───┐                                       »\n",
       "q_2: ─╫────────────╫──────┤ X ├┤M├┤ H ├──■────────────────────────────────────»\n",
       "      ║            ║      └───┘└╥┘└───┘┌─┴─┐┌─┐┌───┐                          »\n",
       "q_3: ─╫────────────╫────────────╫──────┤ X ├┤M├┤ H ├──■───────────────────────»\n",
       "      ║            ║            ║      └───┘└╥┘└───┘┌─┴─┐┌─┐┌───┐             »\n",
       "q_4: ─╫────────────╫────────────╫────────────╫──────┤ X ├┤M├┤ H ├──■──────────»\n",
       "      ║            ║            ║            ║      └───┘└╥┘└───┘┌─┴─┐┌─┐┌───┐»\n",
       "q_5: ─╫────────────╫────────────╫────────────╫────────────╫──────┤ X ├┤M├┤ H ├»\n",
       "      ║            ║            ║            ║            ║      └───┘└╥┘└───┘»\n",
       "q_6: ─╫────────────╫────────────╫────────────╫────────────╫────────────╫──────»\n",
       "      ║            ║            ║            ║            ║            ║      »\n",
       "q_7: ─╫────────────╫────────────╫────────────╫────────────╫────────────╫──────»\n",
       "      ║            ║            ║            ║            ║            ║      »\n",
       "c: 8/═╩════════════╩════════════╩════════════╩════════════╩════════════╩══════»\n",
       "      0            1            2            3            4            5      »\n",
       "«                             \n",
       "«q_0: ────────────────────────\n",
       "«                             \n",
       "«q_1: ────────────────────────\n",
       "«                             \n",
       "«q_2: ────────────────────────\n",
       "«                             \n",
       "«q_3: ────────────────────────\n",
       "«                             \n",
       "«q_4: ────────────────────────\n",
       "«                             \n",
       "«q_5: ──■─────────────────────\n",
       "«     ┌─┴─┐┌─┐┌───┐           \n",
       "«q_6: ┤ X ├┤M├┤ H ├──■────────\n",
       "«     └───┘└╥┘└───┘┌─┴─┐┌─┐┌─┐\n",
       "«q_7: ──────╫──────┤ X ├┤M├┤M├\n",
       "«           ║      └───┘└╥┘└╥┘\n",
       "«c: 8/══════╩════════════╩══╩═\n",
       "«           6            7  7 "
      ]
     },
     "execution_count": 65,
     "metadata": {},
     "output_type": "execute_result"
    }
   ],
   "source": [
    "qc_output = QuantumCircuit(n_q,n_b)\n",
    "\n",
    "qc_output.measure(0,0)\n",
    "for j in range(n-1):\n",
    "    qc_output.h(j)\n",
    "    qc_output.cx(j,j+1)\n",
    "    qc_output.measure(j+1,j+1)\n",
    "    \n",
    "qc_output.measure(n-1,n-1)\n",
    "qc_output.draw()"
   ]
  },
  {
   "cell_type": "code",
   "execution_count": null,
   "metadata": {},
   "outputs": [],
   "source": []
  },
  {
   "cell_type": "code",
   "execution_count": null,
   "metadata": {},
   "outputs": [],
   "source": []
  },
  {
   "cell_type": "code",
   "execution_count": 69,
   "metadata": {},
   "outputs": [],
   "source": [
    "# change the n and make a more interesting circuit\n",
    "n = 4\n",
    "n_q = n\n",
    "n_b = n"
   ]
  },
  {
   "cell_type": "code",
   "execution_count": 70,
   "metadata": {},
   "outputs": [
    {
     "data": {
      "text/html": [
       "<pre style=\"word-wrap: normal;white-space: pre;background: #fff0;line-height: 1.1;font-family: &quot;Courier New&quot;,Courier,monospace\">     ┌───┐┌─┐         \n",
       "q_0: ┤ H ├┤M├─────────\n",
       "     ├───┤└╥┘┌─┐      \n",
       "q_1: ┤ H ├─╫─┤M├──────\n",
       "     ├───┤ ║ └╥┘┌─┐   \n",
       "q_2: ┤ H ├─╫──╫─┤M├───\n",
       "     ├───┤ ║  ║ └╥┘┌─┐\n",
       "q_3: ┤ H ├─╫──╫──╫─┤M├\n",
       "     └───┘ ║  ║  ║ └╥┘\n",
       "c: 4/══════╩══╩══╩══╩═\n",
       "           0  1  2  3 </pre>"
      ],
      "text/plain": [
       "     ┌───┐┌─┐         \n",
       "q_0: ┤ H ├┤M├─────────\n",
       "     ├───┤└╥┘┌─┐      \n",
       "q_1: ┤ H ├─╫─┤M├──────\n",
       "     ├───┤ ║ └╥┘┌─┐   \n",
       "q_2: ┤ H ├─╫──╫─┤M├───\n",
       "     ├───┤ ║  ║ └╥┘┌─┐\n",
       "q_3: ┤ H ├─╫──╫──╫─┤M├\n",
       "     └───┘ ║  ║  ║ └╥┘\n",
       "c: 4/══════╩══╩══╩══╩═\n",
       "           0  1  2  3 "
      ]
     },
     "execution_count": 70,
     "metadata": {},
     "output_type": "execute_result"
    }
   ],
   "source": [
    "qc_output = QuantumCircuit(n_q,n_b)\n",
    "\n",
    "for j in range(n):\n",
    "    qc_output.h(j)\n",
    "    qc_output.measure(j,j)\n",
    "    \n",
    "qc_output.draw()"
   ]
  },
  {
   "cell_type": "code",
   "execution_count": 71,
   "metadata": {},
   "outputs": [],
   "source": [
    "#get the simulator\n",
    "sim = Aer.get_backend('qasm_simulator')\n",
    "\n",
    "#turn circuit into an object so the backend can run\n",
    "qobj = assemble(qc_output)\n",
    "\n",
    "#run (simulate) the experiment\n",
    "result = sim.run(qobj).result()"
   ]
  },
  {
   "cell_type": "code",
   "execution_count": 72,
   "metadata": {},
   "outputs": [
    {
     "data": {
      "image/png": "[encoded data removed]",
      "text/plain": [
       "<Figure size 504x360 with 1 Axes>"
      ]
     },
     "execution_count": 72,
     "metadata": {},
     "output_type": "execute_result"
    }
   ],
   "source": [
    "# get the measurement results\n",
    "counts = result.get_counts()\n",
    "\n",
    "plot_histogram(counts)"
   ]
  },
  {
   "cell_type": "code",
   "execution_count": null,
   "metadata": {},
   "outputs": [],
   "source": []
  },
  {
   "cell_type": "code",
   "execution_count": null,
   "metadata": {},
   "outputs": [],
   "source": []
  },
  {
   "cell_type": "code",
   "execution_count": 83,
   "metadata": {},
   "outputs": [],
   "source": [
    "# first quantum circuit\n",
    "\n",
    "n = 8\n",
    "n_q = n\n",
    "n_b = n\n",
    "qc_output = QuantumCircuit(n_q,n_b)"
   ]
  },
  {
   "cell_type": "code",
   "execution_count": 84,
   "metadata": {},
   "outputs": [
    {
     "data": {
      "text/html": [
       "<pre style=\"word-wrap: normal;white-space: pre;background: #fff0;line-height: 1.1;font-family: &quot;Courier New&quot;,Courier,monospace\">     ┌─┐                     \n",
       "q_0: ┤M├─────────────────────\n",
       "     └╥┘┌─┐                  \n",
       "q_1: ─╫─┤M├──────────────────\n",
       "      ║ └╥┘┌─┐               \n",
       "q_2: ─╫──╫─┤M├───────────────\n",
       "      ║  ║ └╥┘┌─┐            \n",
       "q_3: ─╫──╫──╫─┤M├────────────\n",
       "      ║  ║  ║ └╥┘┌─┐         \n",
       "q_4: ─╫──╫──╫──╫─┤M├─────────\n",
       "      ║  ║  ║  ║ └╥┘┌─┐      \n",
       "q_5: ─╫──╫──╫──╫──╫─┤M├──────\n",
       "      ║  ║  ║  ║  ║ └╥┘┌─┐   \n",
       "q_6: ─╫──╫──╫──╫──╫──╫─┤M├───\n",
       "      ║  ║  ║  ║  ║  ║ └╥┘┌─┐\n",
       "q_7: ─╫──╫──╫──╫──╫──╫──╫─┤M├\n",
       "      ║  ║  ║  ║  ║  ║  ║ └╥┘\n",
       "c: 8/═╩══╩══╩══╩══╩══╩══╩══╩═\n",
       "      0  1  2  3  4  5  6  7 </pre>"
      ],
      "text/plain": [
       "     ┌─┐                     \n",
       "q_0: ┤M├─────────────────────\n",
       "     └╥┘┌─┐                  \n",
       "q_1: ─╫─┤M├──────────────────\n",
       "      ║ └╥┘┌─┐               \n",
       "q_2: ─╫──╫─┤M├───────────────\n",
       "      ║  ║ └╥┘┌─┐            \n",
       "q_3: ─╫──╫──╫─┤M├────────────\n",
       "      ║  ║  ║ └╥┘┌─┐         \n",
       "q_4: ─╫──╫──╫──╫─┤M├─────────\n",
       "      ║  ║  ║  ║ └╥┘┌─┐      \n",
       "q_5: ─╫──╫──╫──╫──╫─┤M├──────\n",
       "      ║  ║  ║  ║  ║ └╥┘┌─┐   \n",
       "q_6: ─╫──╫──╫──╫──╫──╫─┤M├───\n",
       "      ║  ║  ║  ║  ║  ║ └╥┘┌─┐\n",
       "q_7: ─╫──╫──╫──╫──╫──╫──╫─┤M├\n",
       "      ║  ║  ║  ║  ║  ║  ║ └╥┘\n",
       "c: 8/═╩══╩══╩══╩══╩══╩══╩══╩═\n",
       "      0  1  2  3  4  5  6  7 "
      ]
     },
     "execution_count": 84,
     "metadata": {},
     "output_type": "execute_result"
    }
   ],
   "source": [
    "qc_output = QuantumCircuit(n_q,n_b)\n",
    "\n",
    "for j in range(n):\n",
    "    qc_output.measure(j,j)\n",
    "    \n",
    "qc_output.draw()"
   ]
  },
  {
   "cell_type": "code",
   "execution_count": 85,
   "metadata": {},
   "outputs": [],
   "source": [
    "#encoding an input"
   ]
  },
  {
   "cell_type": "code",
   "execution_count": 86,
   "metadata": {},
   "outputs": [
    {
     "data": {
      "text/html": [
       "<pre style=\"word-wrap: normal;white-space: pre;background: #fff0;line-height: 1.1;font-family: &quot;Courier New&quot;,Courier,monospace\">          \n",
       "q_0: ─────\n",
       "          \n",
       "q_1: ─────\n",
       "          \n",
       "q_2: ─────\n",
       "          \n",
       "q_3: ─────\n",
       "          \n",
       "q_4: ─────\n",
       "          \n",
       "q_5: ─────\n",
       "          \n",
       "q_6: ─────\n",
       "     ┌───┐\n",
       "q_7: ┤ X ├\n",
       "     └───┘</pre>"
      ],
      "text/plain": [
       "          \n",
       "q_0: ─────\n",
       "          \n",
       "q_1: ─────\n",
       "          \n",
       "q_2: ─────\n",
       "          \n",
       "q_3: ─────\n",
       "          \n",
       "q_4: ─────\n",
       "          \n",
       "q_5: ─────\n",
       "          \n",
       "q_6: ─────\n",
       "     ┌───┐\n",
       "q_7: ┤ X ├\n",
       "     └───┘"
      ]
     },
     "execution_count": 86,
     "metadata": {},
     "output_type": "execute_result"
    }
   ],
   "source": [
    "#create a circuit\n",
    "qc_encode = QuantumCircuit(n)\n",
    "\n",
    "# place an X gate on qubit label 7\n",
    "qc_encode.x(7)\n",
    "\n",
    "qc_encode.draw()"
   ]
  },
  {
   "cell_type": "code",
   "execution_count": 87,
   "metadata": {},
   "outputs": [
    {
     "data": {
      "text/html": [
       "<pre style=\"word-wrap: normal;white-space: pre;background: #fff0;line-height: 1.1;font-family: &quot;Courier New&quot;,Courier,monospace\">          ┌─┐                     \n",
       "q_0: ─────┤M├─────────────────────\n",
       "          └╥┘┌─┐                  \n",
       "q_1: ──────╫─┤M├──────────────────\n",
       "           ║ └╥┘┌─┐               \n",
       "q_2: ──────╫──╫─┤M├───────────────\n",
       "           ║  ║ └╥┘┌─┐            \n",
       "q_3: ──────╫──╫──╫─┤M├────────────\n",
       "           ║  ║  ║ └╥┘┌─┐         \n",
       "q_4: ──────╫──╫──╫──╫─┤M├─────────\n",
       "           ║  ║  ║  ║ └╥┘┌─┐      \n",
       "q_5: ──────╫──╫──╫──╫──╫─┤M├──────\n",
       "           ║  ║  ║  ║  ║ └╥┘┌─┐   \n",
       "q_6: ──────╫──╫──╫──╫──╫──╫─┤M├───\n",
       "     ┌───┐ ║  ║  ║  ║  ║  ║ └╥┘┌─┐\n",
       "q_7: ┤ X ├─╫──╫──╫──╫──╫──╫──╫─┤M├\n",
       "     └───┘ ║  ║  ║  ║  ║  ║  ║ └╥┘\n",
       "c: 8/══════╩══╩══╩══╩══╩══╩══╩══╩═\n",
       "           0  1  2  3  4  5  6  7 </pre>"
      ],
      "text/plain": [
       "          ┌─┐                     \n",
       "q_0: ─────┤M├─────────────────────\n",
       "          └╥┘┌─┐                  \n",
       "q_1: ──────╫─┤M├──────────────────\n",
       "           ║ └╥┘┌─┐               \n",
       "q_2: ──────╫──╫─┤M├───────────────\n",
       "           ║  ║ └╥┘┌─┐            \n",
       "q_3: ──────╫──╫──╫─┤M├────────────\n",
       "           ║  ║  ║ └╥┘┌─┐         \n",
       "q_4: ──────╫──╫──╫──╫─┤M├─────────\n",
       "           ║  ║  ║  ║ └╥┘┌─┐      \n",
       "q_5: ──────╫──╫──╫──╫──╫─┤M├──────\n",
       "           ║  ║  ║  ║  ║ └╥┘┌─┐   \n",
       "q_6: ──────╫──╫──╫──╫──╫──╫─┤M├───\n",
       "     ┌───┐ ║  ║  ║  ║  ║  ║ └╥┘┌─┐\n",
       "q_7: ┤ X ├─╫──╫──╫──╫──╫──╫──╫─┤M├\n",
       "     └───┘ ║  ║  ║  ║  ║  ║  ║ └╥┘\n",
       "c: 8/══════╩══╩══╩══╩══╩══╩══╩══╩═\n",
       "           0  1  2  3  4  5  6  7 "
      ]
     },
     "execution_count": 87,
     "metadata": {},
     "output_type": "execute_result"
    }
   ],
   "source": [
    "qc = qc_encode + qc_output\n",
    "\n",
    "qc.draw()"
   ]
  },
  {
   "cell_type": "code",
   "execution_count": 88,
   "metadata": {},
   "outputs": [
    {
     "data": {
      "image/png": "[encoded data removed]",
      "text/plain": [
       "<Figure size 504x360 with 1 Axes>"
      ]
     },
     "execution_count": 88,
     "metadata": {},
     "output_type": "execute_result"
    }
   ],
   "source": [
    "#run the combined ciruit\n",
    "\n",
    "qobj = assemble(qc)\n",
    "\n",
    "counts = sim.run(qobj).result().get_counts()\n",
    "\n",
    "plot_histogram(counts)"
   ]
  },
  {
   "cell_type": "code",
   "execution_count": null,
   "metadata": {},
   "outputs": [],
   "source": []
  },
  {
   "cell_type": "code",
   "execution_count": 89,
   "metadata": {},
   "outputs": [
    {
     "data": {
      "text/html": [
       "<pre style=\"word-wrap: normal;white-space: pre;background: #fff0;line-height: 1.1;font-family: &quot;Courier New&quot;,Courier,monospace\">          \n",
       "q_0: ─────\n",
       "     ┌───┐\n",
       "q_1: ┤ X ├\n",
       "     └───┘\n",
       "q_2: ─────\n",
       "          \n",
       "q_3: ─────\n",
       "          \n",
       "q_4: ─────\n",
       "     ┌───┐\n",
       "q_5: ┤ X ├\n",
       "     └───┘\n",
       "q_6: ─────\n",
       "          \n",
       "q_7: ─────\n",
       "          </pre>"
      ],
      "text/plain": [
       "          \n",
       "q_0: ─────\n",
       "     ┌───┐\n",
       "q_1: ┤ X ├\n",
       "     └───┘\n",
       "q_2: ─────\n",
       "          \n",
       "q_3: ─────\n",
       "          \n",
       "q_4: ─────\n",
       "     ┌───┐\n",
       "q_5: ┤ X ├\n",
       "     └───┘\n",
       "q_6: ─────\n",
       "          \n",
       "q_7: ─────\n",
       "          "
      ]
     },
     "execution_count": 89,
     "metadata": {},
     "output_type": "execute_result"
    }
   ],
   "source": [
    "qc_encode = QuantumCircuit(n)\n",
    "\n",
    "qc_encode.x(1)\n",
    "qc_encode.x(5)\n",
    "\n",
    "qc_encode.draw()"
   ]
  },
  {
   "cell_type": "code",
   "execution_count": null,
   "metadata": {},
   "outputs": [],
   "source": []
  },
  {
   "cell_type": "code",
   "execution_count": 90,
   "metadata": {},
   "outputs": [],
   "source": [
    "#creating a half adder"
   ]
  },
  {
   "cell_type": "code",
   "execution_count": 91,
   "metadata": {},
   "outputs": [
    {
     "data": {
      "text/html": [
       "<pre style=\"word-wrap: normal;white-space: pre;background: #fff0;line-height: 1.1;font-family: &quot;Courier New&quot;,Courier,monospace\">          \n",
       "q_0: ──■──\n",
       "     ┌─┴─┐\n",
       "q_1: ┤ X ├\n",
       "     └───┘</pre>"
      ],
      "text/plain": [
       "          \n",
       "q_0: ──■──\n",
       "     ┌─┴─┐\n",
       "q_1: ┤ X ├\n",
       "     └───┘"
      ]
     },
     "execution_count": 91,
     "metadata": {},
     "output_type": "execute_result"
    }
   ],
   "source": [
    "# create a circuit\n",
    "qc_cnot = QuantumCircuit(2)\n",
    "\n",
    "#controlled-not on the first two qubits\n",
    "qc_cnot.cx(0,1)\n",
    "\n",
    "qc_cnot.draw()"
   ]
  },
  {
   "cell_type": "code",
   "execution_count": 94,
   "metadata": {},
   "outputs": [
    {
     "data": {
      "text/html": [
       "<pre style=\"word-wrap: normal;white-space: pre;background: #fff0;line-height: 1.1;font-family: &quot;Courier New&quot;,Courier,monospace\">     ┌───┐     ┌─┐   \n",
       "q_0: ┤ X ├──■──┤M├───\n",
       "     └───┘┌─┴─┐└╥┘┌─┐\n",
       "q_1: ─────┤ X ├─╫─┤M├\n",
       "          └───┘ ║ └╥┘\n",
       "c: 2/═══════════╩══╩═\n",
       "                0  1 </pre>"
      ],
      "text/plain": [
       "     ┌───┐     ┌─┐   \n",
       "q_0: ┤ X ├──■──┤M├───\n",
       "     └───┘┌─┴─┐└╥┘┌─┐\n",
       "q_1: ─────┤ X ├─╫─┤M├\n",
       "          └───┘ ║ └╥┘\n",
       "c: 2/═══════════╩══╩═\n",
       "                0  1 "
      ]
     },
     "execution_count": 94,
     "metadata": {},
     "output_type": "execute_result"
    }
   ],
   "source": [
    "#a more advanced circuit\n",
    "\n",
    "qc = QuantumCircuit(2,2)\n",
    "\n",
    "qc.x(0)\n",
    "qc.cx(0,1)\n",
    "\n",
    "qc.measure(0,0)\n",
    "qc.measure(1,1)\n",
    "\n",
    "qc.draw()"
   ]
  },
  {
   "cell_type": "code",
   "execution_count": 97,
   "metadata": {},
   "outputs": [
    {
     "data": {
      "image/png": "[encoded data removed]",
      "text/plain": [
       "<Figure size 504x360 with 1 Axes>"
      ]
     },
     "execution_count": 97,
     "metadata": {},
     "output_type": "execute_result"
    }
   ],
   "source": [
    "qobj = assemble(qc)\n",
    "counts = sim.run(qobj).result().get_counts()\n",
    "\n",
    "plot_histogram(counts)"
   ]
  },
  {
   "cell_type": "code",
   "execution_count": 98,
   "metadata": {},
   "outputs": [],
   "source": [
    "# now the half-adder for real"
   ]
  },
  {
   "cell_type": "code",
   "execution_count": 107,
   "metadata": {},
   "outputs": [
    {
     "data": {
      "text/html": [
       "<pre style=\"word-wrap: normal;white-space: pre;background: #fff0;line-height: 1.1;font-family: &quot;Courier New&quot;,Courier,monospace\">     ┌───┐ ░            ░       \n",
       "q_0: ┤ X ├─░───■────────░───────\n",
       "     ├───┤ ░   │        ░       \n",
       "q_1: ┤ X ├─░───┼────■───░───────\n",
       "     └───┘ ░ ┌─┴─┐┌─┴─┐ ░ ┌─┐   \n",
       "q_2: ──────░─┤ X ├┤ X ├─░─┤M├───\n",
       "           ░ └───┘└───┘ ░ └╥┘┌─┐\n",
       "q_3: ──────░────────────░──╫─┤M├\n",
       "           ░            ░  ║ └╥┘\n",
       "c: 2/══════════════════════╩══╩═\n",
       "                           0  1 </pre>"
      ],
      "text/plain": [
       "     ┌───┐ ░            ░       \n",
       "q_0: ┤ X ├─░───■────────░───────\n",
       "     ├───┤ ░   │        ░       \n",
       "q_1: ┤ X ├─░───┼────■───░───────\n",
       "     └───┘ ░ ┌─┴─┐┌─┴─┐ ░ ┌─┐   \n",
       "q_2: ──────░─┤ X ├┤ X ├─░─┤M├───\n",
       "           ░ └───┘└───┘ ░ └╥┘┌─┐\n",
       "q_3: ──────░────────────░──╫─┤M├\n",
       "           ░            ░  ║ └╥┘\n",
       "c: 2/══════════════════════╩══╩═\n",
       "                           0  1 "
      ]
     },
     "execution_count": 107,
     "metadata": {},
     "output_type": "execute_result"
    }
   ],
   "source": [
    "# 4 qubits and 2 classical bits\n",
    "qc_ha = QuantumCircuit(4,2)\n",
    "\n",
    "qc_ha.x(0) #this is for a = 1; remove line if a = 0\n",
    "qc_ha.x(1) #this is for b = 1; remove line if b = 0\n",
    "qc_ha.barrier()\n",
    "\n",
    "#use CNOTs to write the XOR of the inputs on qubit 2\n",
    "qc_ha.cx(0,2)\n",
    "qc_ha.cx(1,2)\n",
    "qc_ha.barrier()\n",
    "\n",
    "#extract outputs\n",
    "qc_ha.measure(2,0)\n",
    "qc_ha.measure(3,1)\n",
    "\n",
    "qc_ha.draw()"
   ]
  },
  {
   "cell_type": "code",
   "execution_count": 112,
   "metadata": {},
   "outputs": [
    {
     "name": "stdout",
     "output_type": "stream",
     "text": [
      "     ┌───┐ ░                 ░       \n",
      "q_0: ┤ X ├─░───■─────────■───░───────\n",
      "     ├───┤ ░   │         │   ░       \n",
      "q_1: ┤ X ├─░───┼────■────■───░───────\n",
      "     └───┘ ░ ┌─┴─┐┌─┴─┐  │   ░ ┌─┐   \n",
      "q_2: ──────░─┤ X ├┤ X ├──┼───░─┤M├───\n",
      "           ░ └───┘└───┘┌─┴─┐ ░ └╥┘┌─┐\n",
      "q_3: ──────░───────────┤ X ├─░──╫─┤M├\n",
      "           ░           └───┘ ░  ║ └╥┘\n",
      "c: 2/═══════════════════════════╩══╩═\n",
      "                                0  1 \n"
     ]
    },
    {
     "data": {
      "image/png": "[encoded data removed]",
      "text/plain": [
       "<Figure size 504x360 with 1 Axes>"
      ]
     },
     "execution_count": 112,
     "metadata": {},
     "output_type": "execute_result"
    }
   ],
   "source": [
    "# 4 qubits and 2 classical bits\n",
    "qc_ha = QuantumCircuit(4,2)\n",
    "\n",
    "qc_ha.x(0) #this is for a = 1; remove line if a = 0\n",
    "qc_ha.x(1) #this is for b = 1; remove line if b = 0\n",
    "qc_ha.barrier()\n",
    "\n",
    "#use CNOTs to write the XOR of the inputs on qubit 2\n",
    "qc_ha.cx(0,2)\n",
    "qc_ha.cx(1,2)\n",
    "\n",
    "#use CCNOT or ccx to write the AND of the inputs on qubit 3\n",
    "qc_ha.ccx(0,1,3)\n",
    "qc_ha.barrier()\n",
    "\n",
    "#extract outputs\n",
    "qc_ha.measure(2,0)\n",
    "qc_ha.measure(3,1)\n",
    "\n",
    "print(qc_ha.draw())\n",
    "\n",
    "qobj = assemble(qc_ha)\n",
    "counts = sim.run(qobj).result().get_counts()\n",
    "\n",
    "plot_histogram(counts)"
   ]
  },
  {
   "cell_type": "code",
   "execution_count": 113,
   "metadata": {},
   "outputs": [
    {
     "name": "stdout",
     "output_type": "stream",
     "text": [
      "           ░                 ░       \n",
      "q_0: ──────░───■─────────■───░───────\n",
      "     ┌───┐ ░   │         │   ░       \n",
      "q_1: ┤ X ├─░───┼────■────■───░───────\n",
      "     └───┘ ░ ┌─┴─┐┌─┴─┐  │   ░ ┌─┐   \n",
      "q_2: ──────░─┤ X ├┤ X ├──┼───░─┤M├───\n",
      "           ░ └───┘└───┘┌─┴─┐ ░ └╥┘┌─┐\n",
      "q_3: ──────░───────────┤ X ├─░──╫─┤M├\n",
      "           ░           └───┘ ░  ║ └╥┘\n",
      "c: 2/═══════════════════════════╩══╩═\n",
      "                                0  1 \n"
     ]
    },
    {
     "data": {
      "image/png": "[encoded data removed]",
      "text/plain": [
       "<Figure size 504x360 with 1 Axes>"
      ]
     },
     "execution_count": 113,
     "metadata": {},
     "output_type": "execute_result"
    }
   ],
   "source": [
    "# 4 qubits and 2 classical bits\n",
    "qc_ha = QuantumCircuit(4,2)\n",
    "\n",
    "#qc_ha.x(0) #this is for a = 1; remove line if a = 0\n",
    "qc_ha.x(1) #this is for b = 1; remove line if b = 0\n",
    "qc_ha.barrier()\n",
    "\n",
    "#use CNOTs to write the XOR of the inputs on qubit 2\n",
    "qc_ha.cx(0,2)\n",
    "qc_ha.cx(1,2)\n",
    "\n",
    "#use CCNOT or ccx to write the AND of the inputs on qubit 3\n",
    "qc_ha.ccx(0,1,3)\n",
    "qc_ha.barrier()\n",
    "\n",
    "#extract outputs\n",
    "qc_ha.measure(2,0)\n",
    "qc_ha.measure(3,1)\n",
    "\n",
    "print(qc_ha.draw())\n",
    "\n",
    "qobj = assemble(qc_ha)\n",
    "counts = sim.run(qobj).result().get_counts()\n",
    "\n",
    "plot_histogram(counts)"
   ]
  },
  {
   "cell_type": "code",
   "execution_count": 115,
   "metadata": {},
   "outputs": [
    {
     "name": "stdout",
     "output_type": "stream",
     "text": [
      "      ░                 ░       \n",
      "q_0: ─░───■─────────■───░───────\n",
      "      ░   │         │   ░       \n",
      "q_1: ─░───┼────■────■───░───────\n",
      "      ░ ┌─┴─┐┌─┴─┐  │   ░ ┌─┐   \n",
      "q_2: ─░─┤ X ├┤ X ├──┼───░─┤M├───\n",
      "      ░ └───┘└───┘┌─┴─┐ ░ └╥┘┌─┐\n",
      "q_3: ─░───────────┤ X ├─░──╫─┤M├\n",
      "      ░           └───┘ ░  ║ └╥┘\n",
      "c: 2/══════════════════════╩══╩═\n",
      "                           0  1 \n"
     ]
    },
    {
     "data": {
      "image/png": "[encoded data removed]",
      "text/plain": [
       "<Figure size 504x360 with 1 Axes>"
      ]
     },
     "execution_count": 115,
     "metadata": {},
     "output_type": "execute_result"
    }
   ],
   "source": [
    "# 4 qubits and 2 classical bits\n",
    "qc_ha = QuantumCircuit(4,2)\n",
    "\n",
    "#qc_ha.x(0) #this is for a = 1; remove line if a = 0\n",
    "#qc_ha.x(1) #this is for b = 1; remove line if b = 0\n",
    "qc_ha.barrier()\n",
    "\n",
    "#use CNOTs to write the XOR of the inputs on qubit 2\n",
    "qc_ha.cx(0,2)\n",
    "qc_ha.cx(1,2)\n",
    "\n",
    "#use CCNOT or ccx to write the AND of the inputs on qubit 3\n",
    "qc_ha.ccx(0,1,3)\n",
    "qc_ha.barrier()\n",
    "\n",
    "#extract outputs\n",
    "qc_ha.measure(2,0)\n",
    "qc_ha.measure(3,1)\n",
    "\n",
    "print(qc_ha.draw())\n",
    "\n",
    "qobj = assemble(qc_ha)\n",
    "counts = sim.run(qobj).result().get_counts()\n",
    "\n",
    "plot_histogram(counts)"
   ]
  },
  {
   "cell_type": "code",
   "execution_count": 114,
   "metadata": {},
   "outputs": [
    {
     "name": "stdout",
     "output_type": "stream",
     "text": [
      "     ┌───┐ ░                 ░       \n",
      "q_0: ┤ X ├─░───■─────────■───░───────\n",
      "     └───┘ ░   │         │   ░       \n",
      "q_1: ──────░───┼────■────■───░───────\n",
      "           ░ ┌─┴─┐┌─┴─┐  │   ░ ┌─┐   \n",
      "q_2: ──────░─┤ X ├┤ X ├──┼───░─┤M├───\n",
      "           ░ └───┘└───┘┌─┴─┐ ░ └╥┘┌─┐\n",
      "q_3: ──────░───────────┤ X ├─░──╫─┤M├\n",
      "           ░           └───┘ ░  ║ └╥┘\n",
      "c: 2/═══════════════════════════╩══╩═\n",
      "                                0  1 \n"
     ]
    },
    {
     "data": {
      "image/png": "[encoded data removed]",
      "text/plain": [
       "<Figure size 504x360 with 1 Axes>"
      ]
     },
     "execution_count": 114,
     "metadata": {},
     "output_type": "execute_result"
    }
   ],
   "source": [
    "# 4 qubits and 2 classical bits\n",
    "qc_ha = QuantumCircuit(4,2)\n",
    "\n",
    "qc_ha.x(0) #this is for a = 1; remove line if a = 0\n",
    "#qc_ha.x(1) #this is for b = 1; remove line if b = 0\n",
    "qc_ha.barrier()\n",
    "\n",
    "#use CNOTs to write the XOR of the inputs on qubit 2\n",
    "qc_ha.cx(0,2)\n",
    "qc_ha.cx(1,2)\n",
    "\n",
    "#use CCNOT or ccx to write the AND of the inputs on qubit 3\n",
    "qc_ha.ccx(0,1,3)\n",
    "qc_ha.barrier()\n",
    "\n",
    "#extract outputs\n",
    "qc_ha.measure(2,0)\n",
    "qc_ha.measure(3,1)\n",
    "\n",
    "print(qc_ha.draw())\n",
    "\n",
    "qobj = assemble(qc_ha)\n",
    "counts = sim.run(qobj).result().get_counts()\n",
    "\n",
    "plot_histogram(counts)"
   ]
  },
  {
   "cell_type": "code",
   "execution_count": null,
   "metadata": {},
   "outputs": [],
   "source": []
  }
 ],
 "metadata": {
  "kernelspec": {
   "display_name": "Python 3",
   "language": "python",
   "name": "python3"
  },
  "language_info": {
   "codemirror_mode": {
    "name": "ipython",
    "version": 3
   },
   "file_extension": ".py",
   "mimetype": "text/x-python",
   "name": "python",
   "nbconvert_exporter": "python",
   "pygments_lexer": "ipython3",
   "version": "3.8.5"
  }
 },
 "nbformat": 4,
 "nbformat_minor": 4
}
